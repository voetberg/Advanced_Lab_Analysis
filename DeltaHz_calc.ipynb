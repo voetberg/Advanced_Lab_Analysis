{
 "cells": [
  {
   "cell_type": "code",
   "execution_count": 1,
   "metadata": {},
   "outputs": [],
   "source": [
    "import numpy as np"
   ]
  },
  {
   "cell_type": "code",
   "execution_count": 17,
   "metadata": {},
   "outputs": [],
   "source": [
    "def s(x): \n",
    "    return x**2\n",
    "\n",
    "def delta_deltaHz(v, cramp,tpeak,tfull,dv,dcramp,dtpeak,dtfull): \n",
    "    \n",
    "    ddcramp = v*tpeak/tfull\n",
    "    ddV = cramp*tpeak/tfull\n",
    "    ddtpeak = cramp*v/tfull\n",
    "    ddtfull = v*cramp*tpeak/s(tfull)\n",
    "    \n",
    "    error = np.sqrt(s(ddcramp)*s(dcramp)+s(ddV)*s(dv)+s(ddtpeak)*s(dtpeak)+s(ddtfull)*s(dtfull))\n",
    "    return error*1/(10**9)\n",
    "\n",
    "def deltaHz(v,cramp,tpeak,tfull):\n",
    "    return cramp*v*(tpeak/tfull)*1/(10**9)"
   ]
  },
  {
   "cell_type": "code",
   "execution_count": 19,
   "metadata": {},
   "outputs": [],
   "source": [
    "dv = .01\n",
    "dcramp = 7.29*10**5\n",
    "dt = .04\n",
    "v = 6\n",
    "cramp = 2.87*10**9\n",
    "\n",
    "tfull_l = [7.12,7.12,7.16,7.16]\n",
    "tpeak_l = [3.08,1.40,2.72,1.12]"
   ]
  },
  {
   "cell_type": "code",
   "execution_count": 21,
   "metadata": {},
   "outputs": [
    {
     "name": "stdout",
     "output_type": "stream",
     "text": [
      "DeltaHz = 7.449101123595506 GHz\n",
      "Delta DeltaHz = 0.10615072999863756 GHz\n",
      "\n",
      "DeltaHz = 3.3859550561797747 GHz\n",
      "Delta DeltaHz = 0.09875911525971028 GHz\n",
      "\n",
      "DeltaHz = 6.541675977653632 GHz\n",
      "Delta DeltaHz = 0.10349818025955154 GHz\n",
      "\n",
      "DeltaHz = 2.693631284916201 GHz\n",
      "Delta DeltaHz = 0.09747680029426285 GHz\n",
      "\n"
     ]
    }
   ],
   "source": [
    "for i in range(4): \n",
    "    print('DeltaHz =',deltaHz(v,cramp,tpeak_l[i],tfull_l[i]), 'GHz')\n",
    "    print('Delta DeltaHz =',delta_deltaHz(v,cramp,tpeak_l[i],tfull_l[i],dv,dcramp,dt,dt),'GHz')\n",
    "    print(\"\")"
   ]
  },
  {
   "cell_type": "code",
   "execution_count": null,
   "metadata": {},
   "outputs": [],
   "source": []
  }
 ],
 "metadata": {
  "kernelspec": {
   "display_name": "Python 3",
   "language": "python",
   "name": "python3"
  },
  "language_info": {
   "codemirror_mode": {
    "name": "ipython",
    "version": 3
   },
   "file_extension": ".py",
   "mimetype": "text/x-python",
   "name": "python",
   "nbconvert_exporter": "python",
   "pygments_lexer": "ipython3",
   "version": "3.7.1"
  }
 },
 "nbformat": 4,
 "nbformat_minor": 2
}
